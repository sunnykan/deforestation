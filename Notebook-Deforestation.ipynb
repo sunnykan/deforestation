{
    "metadata": {
        "kernelspec": {
            "name": "SQL",
            "display_name": "SQL",
            "language": "sql"
        },
        "language_info": {
            "name": "sql",
            "version": ""
        }
    },
    "nbformat_minor": 2,
    "nbformat": 4,
    "cells": [
        {
            "cell_type": "markdown",
            "source": [
                "create table forest_area(\n",
                "    country_code text,\n",
                "    country_name text,\n",
                "    year smallint,\n",
                "    forest_area_sqkm real\n",
                ")"
            ],
            "metadata": {
                "azdata_cell_guid": "558539bd-c78b-424e-9cae-59f20c31f22f",
                "tags": []
            }
        },
        {
            "cell_type": "markdown",
            "source": [
                "create table land_area(\n",
                "    country_code text,\n",
                "    country_name text,\n",
                "    year smallint,\n",
                "    total_area_mi real\n",
                ")"
            ],
            "metadata": {
                "azdata_cell_guid": "e29a861e-0507-451c-8edd-99e731fd15bf"
            }
        },
        {
            "cell_type": "markdown",
            "source": [
                "create table regions(\n",
                "    country_name text,\n",
                "    country_code text,\n",
                "    region text,\n",
                "    income_group text\n",
                ")"
            ],
            "metadata": {
                "azdata_cell_guid": "80e3d1d6-a150-45dd-93a4-77caead215aa"
            }
        },
        {
            "cell_type": "markdown",
            "source": [
                "**Steps to complete:**"
            ],
            "metadata": {
                "azdata_cell_guid": "d44652f5-bbfc-4bf1-b414-f080bfbc12b3"
            }
        },
        {
            "cell_type": "code",
            "source": [
                "-- Create a View called “forestation” by joining all three tables - \n",
                "-- forest_area, land_area and regions in the workspace.\n",
                "\n",
                "CREATE VIEW forestation AS\n",
                "    SELECT fa.country_code\n",
                "    , fa.country_name\n",
                "    , fa.year\n",
                "    , fa.forest_area_sqkm\n",
                "    , la.total_area_mi\n",
                "    , (fa.forest_area_sqkm/la.total_area_mi) * (100/2.59) as pct_forest\n",
                "    , r.region\n",
                "    , r.income_group\n",
                "    FROM forest_area fa\n",
                "    JOIN land_area la\n",
                "    ON fa.country_code = la.country_code AND\n",
                "        fa.year = la.year\n",
                "    JOIN regions r\n",
                "    ON r.country_code = fa.country_code\n",
                "    ;\n",
                ""
            ],
            "metadata": {
                "azdata_cell_guid": "334acd36-db62-4d39-b8ef-3c8fe93903a8"
            },
            "outputs": [],
            "execution_count": null
        },
        {
            "cell_type": "markdown",
            "source": [
                "**1\\. Global situation**"
            ],
            "metadata": {
                "azdata_cell_guid": "800527e2-0c5b-4114-8f66-4c82f940be43"
            }
        },
        {
            "cell_type": "code",
            "source": [
                "-- What was the total forest area (in sq km) of the world in 1990?\n",
                "SELECT forest_area_sqkm\n",
                "FROM forestation\n",
                "WHERE country_name = 'World' and year = '1990'\n",
                ""
            ],
            "metadata": {
                "azdata_cell_guid": "c6a4dbe2-bf88-47c9-ae57-858b6303479c"
            },
            "outputs": [],
            "execution_count": null
        },
        {
            "cell_type": "code",
            "source": [
                "-- What was the total forest area (in sq km) of the world in 2016?\n",
                "SELECT forest_area_sqkm\n",
                "FROM forestation\n",
                "WHERE country_name = 'World' AND year = '2016'"
            ],
            "metadata": {
                "azdata_cell_guid": "8cf9159a-9136-4dc7-abbc-820b47935fca"
            },
            "outputs": [],
            "execution_count": null
        },
        {
            "cell_type": "code",
            "source": [
                "-- c. What was the change (in sq km) in the forest area of the world from 1990 to 2016?\n",
                "\n",
                "SELECT year\n",
                ", forest_area_sqkm\n",
                ", lag(forest_area_sqkm) over (order by year) as previous_area\n",
                ", forest_area_sqkm - lag(forest_area_sqkm) over (order by year) as change_sqkm\n",
                "FROM forestation\n",
                "WHERE country_name = 'World' AND \n",
                "    (year = '2016' or year = '1990')"
            ],
            "metadata": {
                "azdata_cell_guid": "25ee17a4-4720-4a5b-be21-5949f6f7a81b"
            },
            "outputs": [],
            "execution_count": null
        },
        {
            "cell_type": "code",
            "source": [
                "-- Alternate\n",
                "\n",
                "With forest_cover AS\n",
                "(\n",
                "    SELECT year\n",
                "    , forest_area_sqkm\n",
                "    FROM forestation\n",
                "    WHERE country_name = 'World'\n",
                "    AND year in (1990, 2016) \n",
                ") \n",
                "SELECT f1.forest_area_sqkm - f2.forest_area_sqkm AS change_sqkm\n",
                "FROM forest_cover f1 \n",
                "JOIN forest_cover f2\n",
                "ON f1.year > f2.year;"
            ],
            "metadata": {
                "azdata_cell_guid": "692a3be5-53b1-4a0d-ae05-22e00a64f129"
            },
            "outputs": [],
            "execution_count": null
        },
        {
            "cell_type": "code",
            "source": [
                "-- d. What was the percent change in forest area of the world between 1990 and 2016?\n",
                "\n",
                "WITH forest_cover AS \n",
                "(\n",
                "    SELECT year\n",
                "    , forest_area_sqkm\n",
                "    , lag(forest_area_sqkm) OVER (ORDER BY year) as previous_area\n",
                "    FROM forestation\n",
                "    WHERE country_name = 'World' AND (year = 2016 or year = 1990)\n",
                ") \n",
                "SELECT *\n",
                ", forest_area_sqkm - previous_area as coverage_diff\n",
                ", (forest_area_sqkm - previous_area)/previous_area * 100 as pct_coverage_diff\n",
                "FROM forest_cover;"
            ],
            "metadata": {
                "azdata_cell_guid": "33ebaba0-2fe9-43f9-966e-c00a0a860b8d"
            },
            "outputs": [],
            "execution_count": null
        },
        {
            "cell_type": "code",
            "source": [
                "-- Alternate\n",
                "\n",
                "With forest_cover AS\n",
                "(\n",
                "    SELECT year\n",
                "    , forest_area_sqkm\n",
                "    FROM forestation\n",
                "    WHERE country_name = 'World'\n",
                "    AND year in (1990, 2016) \n",
                ") \n",
                "SELECT f1.forest_area_sqkm - f2.forest_area_sqkm AS change_sqkm\n",
                ", (f1.forest_area_sqkm - f2.forest_area_sqkm)/f2.forest_area_sqkm * 100 AS pct_coverage_diff\n",
                "FROM forest_cover f1 \n",
                "JOIN forest_cover f2\n",
                "ON f1.year > f2.year;"
            ],
            "metadata": {
                "azdata_cell_guid": "c0e343da-90da-4005-a507-fd282a145109",
                "tags": []
            },
            "outputs": [],
            "execution_count": null
        },
        {
            "cell_type": "code",
            "source": [
                "-- e. If you compare the amount of forest area lost between 1990 and 2016, \n",
                "-- to which country's total area in 2016 is it closest to?\n",
                "\n",
                "WITH forest_cover AS \n",
                "(\n",
                "    SELECT year\n",
                "    , forest_area_sqkm\n",
                "    , lag(forest_area_sqkm) over (order by year) as previous_area\n",
                "    FROM forestation\n",
                "    WHERE country_name = 'World' AND (year = 2016 or year = 1990)\n",
                ") \n",
                "SELECT country_name\n",
                ", total_area_mi * 2.59 as total_area_sqkm\n",
                "from forestation\n",
                "where year = 2016 AND total_area_mi * 2.59 < (SELECT abs(forest_area_sqkm - previous_area) \n",
                "                                                FROM forest_cover where year = 2016)\n",
                "order by total_area_mi * 2.59 desc\n",
                "limit 1;"
            ],
            "metadata": {
                "azdata_cell_guid": "861c8240-1e64-4b54-a7c4-efde01c436b5",
                "tags": []
            },
            "outputs": [],
            "execution_count": null
        },
        {
            "cell_type": "code",
            "source": [
                "--a. What was the percent forest of the entire world in 2016? \n",
                "--b. Which region had the HIGHEST percent forest in 2016, \n",
                "-- and which had the LOWEST, to 2 decimal places?\n",
                "SELECT pct_forest\n",
                "FROM forestation\n",
                "WHERE country_name = 'World' and year = 2016;"
            ],
            "metadata": {
                "azdata_cell_guid": "bb883b8a-9bc7-40c5-846b-7766232c29aa"
            },
            "outputs": [],
            "execution_count": null
        },
        {
            "cell_type": "code",
            "source": [
                "-- Highest\n",
                "SELECT country_name\n",
                "FROM forestation\n",
                "WHERE year = 2016 \n",
                "AND ROUND(pct_forest::NUMERIC , 2) = (SELECT ROUND(MAX(pct_forest)::NUMERIC , 2) \n",
                "                                        FROM forestation\n",
                "                                        WHERE year = 2016);"
            ],
            "metadata": {
                "azdata_cell_guid": "516ea161-3f16-43da-a476-188f2ed988cd",
                "tags": []
            },
            "outputs": [],
            "execution_count": null
        },
        {
            "cell_type": "code",
            "source": [
                "-- Lowest\n",
                "SELECT country_name\n",
                "FROM forestation\n",
                "WHERE year = 2016 \n",
                "AND ROUND(pct_forest::NUMERIC , 2) = (SELECT ROUND(MIN(pct_forest)::NUMERIC , 2) \n",
                "                                        FROM forestation\n",
                "                                        WHERE year = 2016);"
            ],
            "metadata": {
                "azdata_cell_guid": "dcbcb43d-90e8-4c2d-8420-17ba8a71f322"
            },
            "outputs": [],
            "execution_count": null
        },
        {
            "cell_type": "markdown",
            "source": [
                "**2\\. Regional Outlook**"
            ],
            "metadata": {
                "azdata_cell_guid": "1b6dd00b-439a-4284-a321-6d0c77a1cbc2"
            }
        },
        {
            "cell_type": "code",
            "source": [
                "-- a. What was the percent forest of the entire world in 2016? \n",
                "-- Which region had the HIGHEST percent forest in 2016, and \n",
                "-- which had the LOWEST, to 2 decimal places?\n",
                "\n",
                "SELECT country_name\n",
                ", pct_forest\n",
                "FROM forestation\n",
                "WHERE country_name = 'World' AND\n",
                "    year = 2016;\n",
                ""
            ],
            "metadata": {
                "azdata_cell_guid": "3a1ff067-9165-487d-bc6a-f91e0f2c974c",
                "tags": []
            },
            "outputs": [],
            "execution_count": null
        },
        {
            "cell_type": "code",
            "source": [
                "\n",
                "With region_forest AS\n",
                "(\n",
                "    SELECT region\n",
                "    , SUM(forest_area_sqkm)/SUM(total_area_mi * 2.59) * 100 as pct_forest\n",
                "    FROM forestation\n",
                "    WHERE year = 2016\n",
                "    GROUP BY region\n",
                ") \n",
                "SELECT * FROM region_forest"
            ],
            "metadata": {
                "azdata_cell_guid": "664d8b5e-7122-4ce0-b639-13ffeb85867a",
                "tags": []
            },
            "outputs": [],
            "execution_count": null
        },
        {
            "cell_type": "code",
            "source": [
                "With region_forest AS\n",
                "(\n",
                "    SELECT region\n",
                "    , SUM(forest_area_sqkm)/SUM(total_area_mi * 2.59) * 100 as pct_forest\n",
                "    FROM forestation\n",
                "    WHERE year = 2016\n",
                "    GROUP BY region\n",
                ") \n",
                "SELECT region\n",
                ", RANK() OVER (ORDER BY pct_forest DESC)\n",
                "from region_forest\n",
                "limit 1;"
            ],
            "metadata": {
                "azdata_cell_guid": "6202f259-29a2-4bbb-af67-b59a4d114c77"
            },
            "outputs": [],
            "execution_count": null
        },
        {
            "cell_type": "code",
            "source": [
                "-- Lowest\n",
                "With region_forest AS\n",
                "(\n",
                "    SELECT region\n",
                "    , SUM(forest_area_sqkm)/SUM(total_area_mi * 2.59) * 100 as pct_forest\n",
                "    FROM forestation\n",
                "    WHERE year = 1990\n",
                "    GROUP BY region\n",
                ") \n",
                "SELECT region\n",
                ", RANK() OVER (ORDER BY pct_forest)\n",
                "from region_forest\n",
                "limit 1;\n",
                ""
            ],
            "metadata": {
                "azdata_cell_guid": "04e6de01-2f10-4a8f-ac14-772dd0f3b98a"
            },
            "outputs": [],
            "execution_count": null
        },
        {
            "cell_type": "code",
            "source": [
                "-- c. Based on the table you created, which regions of the world DECREASED in forest area from 1990 to 2016?\n",
                "With region_forest AS\n",
                "(\n",
                "    SELECT region\n",
                "    , year\n",
                "    , SUM(forest_area_sqkm)/SUM(total_area_mi * 2.59) * 100 as pct_forest\n",
                "    FROM forestation\n",
                "    WHERE year = 1990 OR year = 2016\n",
                "    GROUP BY region, year\n",
                "    ORDER BY region, year\n",
                "),\n",
                "region_forest_diff AS\n",
                "( \n",
                "    SELECT region\n",
                "    , year\n",
                "    , pct_forest\n",
                "    , lag(pct_forest) OVER (PARTITION BY region ORDER BY year) as previous_pct\n",
                "    FROM region_forest\n",
                ") \n",
                "SELECT region\n",
                ", (pct_forest - previous_pct) as pct_forest_diff\n",
                "FROM region_forest_diff\n",
                "WHERE (pct_forest - previous_pct) < 0;"
            ],
            "metadata": {
                "azdata_cell_guid": "0ae780af-7b16-440c-99b5-9b558a99efa1"
            },
            "outputs": [],
            "execution_count": null
        },
        {
            "cell_type": "code",
            "source": [
                "-- Alternate\n",
                "\n",
                "With region_forest AS\n",
                "(\n",
                "    SELECT region\n",
                "    , year\n",
                "    , SUM(forest_area_sqkm)/SUM(total_area_mi * 2.59) * 100 as pct_forest\n",
                "    FROM forestation\n",
                "    WHERE year = 1990 OR year = 2016\n",
                "    GROUP BY region, year\n",
                "    ORDER BY region, year\n",
                ") \n",
                "SELECT r1.region\n",
                ", (r1.pct_forest - r2.pct_forest) as pct_forest_diff\n",
                "FROM region_forest r1\n",
                "JOIN region_forest r2\n",
                "ON r1.year > r2.year AND r1.region = r2.region\n",
                "WHERE (r1.pct_forest - r2.pct_forest) < 0;\n",
                ""
            ],
            "metadata": {
                "azdata_cell_guid": "7470451a-f550-4238-b537-86b3deae33aa"
            },
            "outputs": [],
            "execution_count": null
        },
        {
            "cell_type": "markdown",
            "source": [
                "**<span style=\"color: #d33682;\">3</span>. Country<span style=\"color: #859900;\">-level</span> Detail**"
            ],
            "metadata": {
                "azdata_cell_guid": "64325dbc-b926-4387-9b98-7309d4ad2517"
            }
        },
        {
            "cell_type": "code",
            "source": [
                "-- a. Which 5 countries saw the largest amount decrease in forest area from 1990 to 2016? \n",
                "-- What was the difference in forest area for each?\n",
                "\n",
                "WITH forest_cover AS\n",
                "(\n",
                "    SELECT country_name\n",
                "    , year\n",
                "    , forest_area_sqkm\n",
                "    , lag(forest_area_sqkm) OVER (PARTITION BY country_name ORDER BY year) as previous_forest_area\n",
                "    FROM forestation\n",
                "    WHERE year = 1990 or year = 2016\n",
                "    ORDER BY country_name, year\n",
                "),\n",
                "forest_diff AS\n",
                "(\n",
                "    SELECT *\n",
                "    , forest_area_sqkm - previous_forest_area as diff_forest_area\n",
                "    , ((forest_area_sqkm - previous_forest_area)/previous_forest_area) * 100 as pct_decrease\n",
                "    FROM forest_cover \n",
                "    WHERE year = 2016 and country_name != 'World'\n",
                ")\n",
                "SELECT country_name, diff_forest_area \n",
                "FROM forest_diff\n",
                "ORDER BY diff_forest_area\n",
                "limit 5;\n",
                ""
            ],
            "metadata": {
                "azdata_cell_guid": "09c2c65e-e3e0-4c0a-b272-aafecb92f86d"
            },
            "outputs": [],
            "execution_count": null
        },
        {
            "cell_type": "code",
            "source": [
                "WITH forest_cover AS\n",
                "(\n",
                "    SELECT country_name\n",
                "    , year\n",
                "    , forest_area_sqkm\n",
                "    , lag(forest_area_sqkm) OVER (PARTITION BY country_name ORDER BY year) as previous_forest_area\n",
                "    FROM forestation\n",
                "    WHERE year in (1990, 2016) AND country_name != 'World'\n",
                "    ORDER BY country_name, year\n",
                ") \n",
                "SELECT f1.country_name\n",
                ", f1.forest_area_sqkm - f2.forest_area_sqkm AS diff_forest_area\n",
                "FROM forest_cover f1\n",
                "JOIN forest_cover f2\n",
                "ON f1.year > f2.year AND f1.country_name = f2.country_name\n",
                "ORDER BY f1.forest_area_sqkm - f2.forest_area_sqkm\n",
                "limit 5;"
            ],
            "metadata": {
                "azdata_cell_guid": "a71d642f-0ffe-43de-bd2c-977b7804f0f8"
            },
            "outputs": [],
            "execution_count": null
        },
        {
            "cell_type": "code",
            "source": [
                "-- b. Which 5 countries saw the largest percent decrease in forest area from 1990 to 2016? \n",
                "-- What was the percent change to 2 decimal places for each?\n",
                "\n",
                "WITH forest_cover AS\n",
                "(\n",
                "    SELECT country_name\n",
                "    , year\n",
                "    , forest_area_sqkm\n",
                "    , lag(forest_area_sqkm) OVER (PARTITION BY country_name ORDER BY year) as previous_forest_area\n",
                "    FROM forestation\n",
                "    WHERE year = 1990 or year = 2016\n",
                "    ORDER BY country_name, year\n",
                "),\n",
                "forest_diff AS\n",
                "(\n",
                "    SELECT *\n",
                "    , forest_area_sqkm - previous_forest_area as diff_forest_area\n",
                "    , ((forest_area_sqkm - previous_forest_area)/previous_forest_area) * 100 as pct_change\n",
                "    FROM forest_cover \n",
                "    WHERE year = 2016 and country_name != 'World'\n",
                ")\n",
                "SELECT country_name\n",
                ", ROUND(pct_change::NUMERIC, 2) as pct_change \n",
                "FROM forest_diff\n",
                "ORDER BY pct_change\n",
                "limit 5;\n",
                ""
            ],
            "metadata": {
                "azdata_cell_guid": "39cd5deb-526f-4374-8d34-8f2c013572fe"
            },
            "outputs": [],
            "execution_count": null
        },
        {
            "cell_type": "code",
            "source": [
                "-- Alternate\n",
                "\n",
                "WITH forest_cover AS\n",
                "(\n",
                "    SELECT country_name\n",
                "    , year\n",
                "    , forest_area_sqkm\n",
                "    , lag(forest_area_sqkm) OVER (PARTITION BY country_name ORDER BY year) as previous_forest_area\n",
                "    FROM forestation\n",
                "    WHERE year in (1990, 2016) AND country_name != 'World'\n",
                "    ORDER BY country_name, year\n",
                ") \n",
                "SELECT f1.country_name\n",
                ", ROUND(((f1.forest_area_sqkm - f2.forest_area_sqkm)/f2.forest_area_sqkm * 100)::NUMERIC, 2) AS pct_change\n",
                "FROM forest_cover f1\n",
                "JOIN forest_cover f2\n",
                "ON f1.year > f2.year AND f1.country_name = f2.country_name\n",
                "ORDER BY 2\n",
                "limit 5;"
            ],
            "metadata": {
                "azdata_cell_guid": "572139a4-83f2-4121-aaa0-102d28520dce",
                "tags": []
            },
            "outputs": [],
            "execution_count": null
        },
        {
            "cell_type": "code",
            "source": [
                "--c. If countries were grouped by percent forestation in quartiles, \n",
                "--which group had the most countries in it in 2016?\n",
                "\n",
                "WITH forest_quartile AS\n",
                "(\n",
                "    SELECT country_name \n",
                "    , CASE \n",
                "        WHEN pct_forest <= 25 THEN '<= 25%'\n",
                "        WHEN pct_forest > 25 AND pct_forest <= 50 THEN '> 25% AND <= 50%'\n",
                "        WHEN pct_forest > 50 AND pct_forest <= 75 THEN '> 50% AND <= 75%'\n",
                "        ELSE '> 75%'\n",
                "    END AS quartile_grp\n",
                "    FROM forestation\n",
                "    WHERE year = 2016 AND pct_forest IS NOT NULL\n",
                ") \n",
                "SELECT quartile_grp, COUNT(*) \n",
                "FROM forest_quartile\n",
                "GROUP BY quartile_grp\n",
                "ORDER BY COUNT(*) DESC;"
            ],
            "metadata": {
                "azdata_cell_guid": "449c53bd-df59-472f-ad2b-13be41cdc11c"
            },
            "outputs": [],
            "execution_count": null
        },
        {
            "cell_type": "code",
            "source": [
                "--d. List all of the countries that were in the 4th quartile (percent forest > 75%) in 2016\n",
                "\n",
                "WITH forest_quartile AS\n",
                "(\n",
                "    SELECT country_name \n",
                "    , CASE \n",
                "        WHEN pct_forest <= 25 THEN '<= 25%'\n",
                "        WHEN pct_forest > 25 AND pct_forest <= 50 THEN '> 25% AND <= 50%'\n",
                "        WHEN pct_forest > 50 AND pct_forest <= 75 THEN '> 50% AND <= 75%'\n",
                "        ELSE '> 75%'\n",
                "    END AS quartile_grp\n",
                "    FROM forestation\n",
                "    WHERE year = 2016 AND pct_forest IS NOT NULL\n",
                ") \n",
                "SELECT country_name\n",
                "FROM forest_quartile\n",
                "WHERE quartile_grp = '> 75%';"
            ],
            "metadata": {
                "azdata_cell_guid": "7fb9eea1-7955-4196-b178-ea7fa1a93f1a"
            },
            "outputs": [],
            "execution_count": null
        },
        {
            "cell_type": "code",
            "source": [
                "--e. How many countries had a percent forestation higher than the United States in 2016?\n",
                "\n",
                "SELECT count(*)\n",
                "FROM forestation\n",
                "WHERE year = 2016 \n",
                "    AND pct_forest IS NOT NULL\n",
                "    AND pct_forest > (\n",
                "            SELECT pct_forest\n",
                "            FROM forestation\n",
                "            WHERE country_name = 'United States' \n",
                "                AND year = 2016\n",
                "    )"
            ],
            "metadata": {
                "azdata_cell_guid": "fb1f8b93-e515-4988-86e6-f1f5c8e3bd4d"
            },
            "outputs": [],
            "execution_count": null
        }
    ]
}